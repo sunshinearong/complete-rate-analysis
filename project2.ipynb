{
 "cells": [
  {
   "cell_type": "markdown",
   "metadata": {
    "deletable": true,
    "editable": true
   },
   "source": [
    "# MATH 210 Project 2: Women in Canadian Federal Politics\n",
    "\n",
    "## April 8, 2016\n",
    "\n",
    "The [Cabinet](http://www.parl.gc.ca/parliamentarians/en/ministries) in the current Canadian Parliament is the first Cabinet in Canadian history to be composed of an equal number of men and women. However, women are still underrepresented in Parliament. In 2016, only 26% of the House of Commons is represented by women (see the [Parliament of Canada](http://www.lop.parl.gc.ca/parlinfo/Lists/Occupation.aspx?Menu=PARL-HOC&Section=03d93c58-f843-49b3-9653-84275c23f3fb&Parliament=b67c82bf-0106-42e5-9be1-46ecb5feaf60&Name=&Party=&Province=&Gender=F&CurrentParliamentarian=False&Occupation=&OccupationType=)).\n",
    "\n",
    "We will study the number of [Women in Canadian Federal Politics](https://en.wikipedia.org/wiki/Women_in_Canadian_politics) using the [History of the Federal Electoral Ridings, 1867-2010](http://open.canada.ca/data/en/dataset/ea8f2c37-90b6-4fee-857e-984d3060184e) dataset from the Government of Canada's [Open Data Portal](http://open.canada.ca/). We will supplement this dataset with data from the [Parliament of Canada](http://www.lop.parl.gc.ca/Parlinfo/pages/parliament.aspx?Menu=Parliament) regarding the two most recent Parliaments elected in 2011 and 2015.\n",
    "\n",
    "Although the Parliament of Canada consists of the Governor General, the Senate and the House of Commons, **the entire analysis below concerns only the elected members of Parliament in the House of Commons.**\n",
    "\n",
    "The questions we address are:\n",
    "\n",
    "1. Who was the first woman elected to the House of Commons?\n",
    "2. How many women (in total and as a percentage) were elected to the House of Commons in each Parliament?\n",
    "3. What is the current trend? Is the number of women elected increasing and at what rate?\n",
    "4. When will the House of Commons achieve gender balance?\n",
    "\n",
    "### Executive Summary\n",
    "\n",
    "1. In 1921, Agnes Macphail was the first woman elected to the House of Commons.\n",
    "2. It was not for another 50 years that number of elected women started to increase: Grace Macinnis was still the only woman elected in 1968. The percentage of the House of Commons represented by women exceeded 10% for the first time in 1984 and the maximum was 26% in the 42nd Parliament elected in 2015.\n",
    "3. The percentage of the House of Commons represented by women increased by +0.58%/year from 1968-2015.\n",
    "4. At this rate, **it will take approximately 41 years to achieve gender balance in the House of Commons (in the year 2056).** There is a need to promote the success of women in Canadian Federal Politics to achieve gender balance much sooner than this projection.\n",
    "\n",
    "### Table of Contents\n",
    "\n",
    "1. Introducing the data\n",
    "2. Women in the House of Commons\n",
    "    * The first woman elected to the House of Commons\n",
    "    * The number of women elected to the House of Commons 1921-2015\n",
    "    * Measuring the increasing rate of women in the House of Commons 1968-2015\n",
    "    * Projecting gender balance in the House of Commons"
   ]
  },
  {
   "cell_type": "code",
   "execution_count": null,
   "metadata": {
    "collapsed": false,
    "deletable": true,
    "editable": true
   },
   "outputs": [],
   "source": [
    "import pandas as pd\n",
    "import numpy as np\n",
    "import matplotlib\n",
    "import matplotlib.pyplot as plt\n",
    "%matplotlib inline\n",
    "matplotlib.rcParams['figure.figsize'] = (12, 6)"
   ]
  },
  {
   "cell_type": "markdown",
   "metadata": {
    "deletable": true,
    "editable": true
   },
   "source": [
    "## 1. Introducing the data\n",
    "\n",
    "The [History of the Federal Electoral Ridings, 1867-2010](http://open.canada.ca/data/en/dataset/ea8f2c37-90b6-4fee-857e-984d3060184e) dataset (available from the Government of Canada's [Open Data Portal](http://open.canada.ca/)) is a summary of every candidate who has run for a seat in the Canadian House of Commons during the period 1867 to 2010. The two most recent parliaments are not included and we will append this data later on. There are some names in the dataset containing french accent characters and so we need to specify the encoding option as `latin` for the function `pandas.read_csv` to import the file properly."
   ]
  },
  {
   "cell_type": "code",
   "execution_count": null,
   "metadata": {
    "collapsed": false,
    "deletable": true,
    "editable": true
   },
   "outputs": [],
   "source": [
    "candidates = pd.read_csv('elections.csv',encoding='latin')"
   ]
  },
  {
   "cell_type": "code",
   "execution_count": null,
   "metadata": {
    "collapsed": false,
    "deletable": true,
    "editable": true
   },
   "outputs": [],
   "source": [
    "candidates.head()"
   ]
  },
  {
   "cell_type": "code",
   "execution_count": null,
   "metadata": {
    "collapsed": false,
    "deletable": true,
    "editable": true
   },
   "outputs": [],
   "source": [
    "candidates.info()"
   ]
  },
  {
   "cell_type": "markdown",
   "metadata": {
    "deletable": true,
    "editable": true
   },
   "source": [
    "We see that there are 38,777 lines of data and 13 columns. Each row is a candidate who ran in a Canadian federal election. The columns are as follows (see the [explanation](http://open.canada.ca/commonwebsol/fileuploads/4/4/F/44FAA61D-BF17-4C87-B9B7-70F9F21AE495/HFERDatasetDefinitions.txt) accompanying the data file):\n",
    "\n",
    "* **Election Date**: the entries of this column are strings containing the year-month-day of the election. We will separate the year, month and day into their own columns later\n",
    "* **Election Type**: Gen = General Federal Election, B/P = By-election (an election to fill a single seat that was vacated between general elections)\n",
    "* **Parliament**: The number of the [Parliament](http://www.parl.gc.ca/default.aspx?Language=E) (the most recently elected is the 42nd Parliament)\n",
    "* **Province**: Province of the riding\n",
    "* **Riding**: Name of the region represented by the member of Parliament\n",
    "* **Last Name**: Last name of the candidate\n",
    "* **First Name**: First name of the candidate\n",
    "* **Gender**: Gender of the candidate (M or no data = Male, F = Female)\n",
    "* **Occupation**: Occupation of the candidate\n",
    "* **Party**: Party affiliation of the candidate\n",
    "* **Votes**: Number of votes for the candidate (accl. = Candidate was acclaimed)\n",
    "* **Votes (%)**: Percentage of votes for the candidate\n",
    "* **Elected**: 1 = Elected, 0 = Not elected"
   ]
  },
  {
   "cell_type": "markdown",
   "metadata": {
    "deletable": true,
    "editable": true
   },
   "source": [
    "### Get the year of each Parliament as an integer"
   ]
  },
  {
   "cell_type": "markdown",
   "metadata": {
    "deletable": true,
    "editable": true
   },
   "source": [
    "We can separate the year of the election into its own column for our convenience."
   ]
  },
  {
   "cell_type": "code",
   "execution_count": null,
   "metadata": {
    "collapsed": false,
    "deletable": true,
    "editable": true
   },
   "outputs": [],
   "source": [
    "candidates['Election Year'] = candidates['Election Date'].map(lambda x: int(x[0:4]))"
   ]
  },
  {
   "cell_type": "code",
   "execution_count": null,
   "metadata": {
    "collapsed": false,
    "deletable": true,
    "editable": true
   },
   "outputs": [],
   "source": [
    "candidates.info()"
   ]
  },
  {
   "cell_type": "code",
   "execution_count": null,
   "metadata": {
    "collapsed": false,
    "deletable": true,
    "editable": true
   },
   "outputs": [],
   "source": [
    "candidates.tail()"
   ]
  },
  {
   "cell_type": "markdown",
   "metadata": {
    "deletable": true,
    "editable": true
   },
   "source": [
    "### Fill in missing data in Gender column\n",
    "\n",
    "The [table of definitions](http://open.canada.ca/commonwebsol/fileuploads/4/4/F/44FAA61D-BF17-4C87-B9B7-70F9F21AE495/HFERDatasetDefinitions.txt) accompanying the data explains that missing data in the Gender column implies the candidate was male therefore we can fill the missing values with M."
   ]
  },
  {
   "cell_type": "code",
   "execution_count": null,
   "metadata": {
    "collapsed": false,
    "deletable": true,
    "editable": true
   },
   "outputs": [],
   "source": [
    "candidates['Gender'].fillna('M',inplace=True)\n",
    "candidates.head()"
   ]
  },
  {
   "cell_type": "markdown",
   "metadata": {
    "deletable": true,
    "editable": true
   },
   "source": [
    "## 2. Women in the House of Commons\n",
    "\n",
    "Let's begin by selecting the rows corresponding to women who were elected to the House of Commons:"
   ]
  },
  {
   "cell_type": "code",
   "execution_count": null,
   "metadata": {
    "collapsed": false,
    "deletable": true,
    "editable": true
   },
   "outputs": [],
   "source": [
    "elected_women = candidates[(candidates['Gender'] == 'F') & (candidates['Elected'] == 1)]"
   ]
  },
  {
   "cell_type": "markdown",
   "metadata": {
    "deletable": true,
    "editable": true
   },
   "source": [
    "### 2.1 The first woman elected to the House of Commons"
   ]
  },
  {
   "cell_type": "code",
   "execution_count": null,
   "metadata": {
    "collapsed": false,
    "deletable": true,
    "editable": true
   },
   "outputs": [],
   "source": [
    "elected_women.head(7)"
   ]
  },
  {
   "cell_type": "markdown",
   "metadata": {
    "deletable": true,
    "editable": true
   },
   "source": [
    "The first woman elected to Canadian parliament was [Agnes Campbell Macphail](https://en.wikipedia.org/wiki/Agnes_Macphail), a teacher and journalist from Ontario:\n",
    "\n",
    "![Agnes Macphail](http://www.saugeentimes.com/87%20x/Women%20Today%20CFUW%20presents%20a%20celebration%20of%20Agnes%20Macphail%20Sept%2028%202015/Macphail.jpg)\n",
    "\n",
    "She is well-known for her work on progressive issues such as her work towards penal reform:"
   ]
  },
  {
   "cell_type": "code",
   "execution_count": null,
   "metadata": {
    "collapsed": false,
    "deletable": true,
    "editable": true
   },
   "outputs": [],
   "source": [
    "from IPython.display import YouTubeVideo\n",
    "YouTubeVideo(\"0ALgilFMkug\")"
   ]
  },
  {
   "cell_type": "markdown",
   "metadata": {
    "deletable": true,
    "editable": true
   },
   "source": [
    "In fact, Agnes Macphail was the **only woman** elected to Parliament in 1921, 1925, 1926, and 1930. Finally, in 1935, Martha Black and Agnes Macphail were both elected to Parliament; the first time multiple women were elected to the House of Commons."
   ]
  },
  {
   "cell_type": "markdown",
   "metadata": {
    "deletable": true,
    "editable": true
   },
   "source": [
    "### 2.2 The number of women elected to the House of Commons 1921-2015\n",
    "\n",
    "We can count the number of women elected to the House of Commons since Agnes Macphail was the first to be elected in 1921. We can append the number of women elected in the two most recent federal elections in 2011 and 2015 (not included in our dataset). These numbers can be found on the [Parliament of Canada's webpage](http://www.lop.parl.gc.ca/parlinfo/Lists/Occupation.aspx?Menu=PARL-HOC&Section=03d93c58-f843-49b3-9653-84275c23f3fb&Parliament=b67c82bf-0106-42e5-9be1-46ecb5feaf60&Name=&Party=&Province=&Gender=F&CurrentParliamentarian=False&Occupation=&OccupationType=)."
   ]
  },
  {
   "cell_type": "markdown",
   "metadata": {
    "deletable": true,
    "editable": true
   },
   "source": [
    "#### Total number of women elected to the House of Commons"
   ]
  },
  {
   "cell_type": "code",
   "execution_count": null,
   "metadata": {
    "collapsed": false,
    "deletable": true,
    "editable": true
   },
   "outputs": [],
   "source": [
    "total_elected_women = elected_women.groupby('Parliament').size()\n",
    "total_elected_women.index = elected_women.groupby('Parliament')['Election Year'].min()\n",
    "total_elected_women.name = 'Elected Women'\n",
    "total_elected_women[2011] = 80\n",
    "total_elected_women[2015] = 88\n",
    "\n",
    "total_elected_women.plot(kind='bar',title='Total Number of Women Elected since 1921')"
   ]
  },
  {
   "cell_type": "markdown",
   "metadata": {
    "deletable": true,
    "editable": true
   },
   "source": [
    "Although there have been more women elected to parliament in recent years, there was still only one woman elected to to the 28th Parliament:"
   ]
  },
  {
   "cell_type": "code",
   "execution_count": null,
   "metadata": {
    "collapsed": false,
    "deletable": true,
    "editable": true
   },
   "outputs": [],
   "source": [
    "elected_women[elected_women['Parliament'] == 28]"
   ]
  },
  {
   "cell_type": "markdown",
   "metadata": {
    "deletable": true,
    "editable": true
   },
   "source": [
    "[Grace Macinnis](http://www.lop.parl.gc.ca/ParlInfo/Files/Parliamentarian.aspx?Item=ADDA36BC-8669-4E53-B76D-1081337EC422&Language=E&Section=ALL) was the only woman elected to Parliament in 1968 and represented Vancouver-Kingsway."
   ]
  },
  {
   "cell_type": "markdown",
   "metadata": {
    "deletable": true,
    "editable": true
   },
   "source": [
    "#### Percentage of the House of Commons represented by women\n",
    "\n",
    "We can also measure the percentage of the House of Commons represented by women simply by dividing the values calculated above by the total number of persons elected. Again, we refer to the Parliament of Canada's webpage to fill in the values for the two most recent elections."
   ]
  },
  {
   "cell_type": "code",
   "execution_count": null,
   "metadata": {
    "collapsed": false,
    "deletable": true,
    "editable": true
   },
   "outputs": [],
   "source": [
    "elected = candidates[(candidates['Parliament'] > 13) & (candidates['Elected'] == 1)]\n",
    "percentage_women = elected_women.groupby('Parliament').size() / elected.groupby('Parliament').size()\n",
    "percentage_women.index = elected_women.groupby('Parliament')['Election Year'].min()\n",
    "percentage_women[2011] = 80/323\n",
    "percentage_women[2015] = 88/338\n",
    "percentage_women = percentage_women*100\n",
    "\n",
    "percentage_women.columns = ['Elected Women (%)','Year']\n",
    "percentage_women.plot(kind='bar',title='Percent of the House of Commons Represented by Women',x='Year')"
   ]
  },
  {
   "cell_type": "markdown",
   "metadata": {
    "deletable": true,
    "editable": true
   },
   "source": [
    "The [33rd Parliament](http://www.lop.parl.gc.ca/ParlInfo/Files/Parliament.aspx?Item=4ae94798-0b56-4f9c-b48e-d2fb6c7aede6&Language=E&MenuID=Lists.Parliament.aspx&MenuQuery=http%3A%2F%2Fwww.lop.parl.gc.ca%2FParlInfo%2FLists%2FParliament.aspx) elected in 1984 was the first House of Commons composed of at least 10% women and the percentage of women has increased to 26% in the 42nd Parliament elected in 2015."
   ]
  },
  {
   "cell_type": "markdown",
   "metadata": {
    "deletable": true,
    "editable": true
   },
   "source": [
    "### 2.3 Measuring the increasing rate of women in the House of Commons 1968-2015\n",
    "\n",
    "The number of women elected to Parliament only started to increase after 1968. We will perform a linear regression analysis to calculate the rate at which the percentage of the House of Commons represented by women from 1968 to 2015 is increasing."
   ]
  },
  {
   "cell_type": "code",
   "execution_count": null,
   "metadata": {
    "collapsed": false,
    "deletable": true,
    "editable": true
   },
   "outputs": [],
   "source": [
    "X = np.array([np.ones(15), percentage_women.loc[1968:].index.values])\n",
    "X = np.matrix(X).T\n",
    "Y = percentage_women.loc[1968:].values\n",
    "Y = np.matrix(Y).T\n",
    "\n",
    "A = (X.T * X)**(-1) * X.T * Y\n",
    "\n",
    "x = percentage_women.loc[1968:].index.values\n",
    "y = A[0,0] + A[1,0]*x\n",
    "plt.plot(x,y,X[:,1],Y,'r.')\n",
    "plt.xlabel('Year'), plt.ylabel('Percentage (%)')\n",
    "plt.title('Percentage of the House of Commons Represented by Women 1968-2015')\n",
    "plt.show()"
   ]
  },
  {
   "cell_type": "markdown",
   "metadata": {
    "collapsed": true,
    "deletable": true,
    "editable": true
   },
   "source": [
    "The percentage of the House of Commons represented by women is increasing at the rate 0.58%/year."
   ]
  },
  {
   "cell_type": "code",
   "execution_count": null,
   "metadata": {
    "collapsed": false,
    "deletable": true,
    "editable": true
   },
   "outputs": [],
   "source": [
    "incr_women_per_year = A[1,0]\n",
    "incr_women_per_year"
   ]
  },
  {
   "cell_type": "markdown",
   "metadata": {
    "deletable": true,
    "editable": true
   },
   "source": [
    "### 2.4 Projecting Gender Balance in the House of Commons\n",
    "\n",
    "We have calculated the rate at which the percentage of the House of Commons represented by women is increasing and so the final step is to use this rate to predict when the House will achieve gender balance. We calculate:"
   ]
  },
  {
   "cell_type": "markdown",
   "metadata": {
    "deletable": true,
    "editable": true
   },
   "source": [
    "( Women in the House of Commons in 2015, % ) + ( Increase of Women in the House of Commons, %/year ) * ( Number of Years ) = 50%\n",
    "\n",
    "$\\Rightarrow$ Number of Years = ( 50% - ( Women in the House of Commons in 2015, % ) ) / ( Increase of Women in the House of Commons, %/year )"
   ]
  },
  {
   "cell_type": "code",
   "execution_count": null,
   "metadata": {
    "collapsed": false,
    "deletable": true,
    "editable": true
   },
   "outputs": [],
   "source": [
    "(50 - percentage_women[2015]) / incr_women_per_year"
   ]
  },
  {
   "cell_type": "markdown",
   "metadata": {
    "collapsed": true,
    "deletable": true,
    "editable": true
   },
   "source": [
    "At the current rate, the House of Commons in the Parliament of Canada will achieve gender balance in 41 years (in 2056)."
   ]
  }
 ],
 "metadata": {
  "kernelspec": {
   "display_name": "Python 2",
   "language": "python",
   "name": "python2"
  },
  "language_info": {
   "codemirror_mode": {
    "name": "ipython",
    "version": 2
   },
   "file_extension": ".py",
   "mimetype": "text/x-python",
   "name": "python",
   "nbconvert_exporter": "python",
   "pygments_lexer": "ipython2",
   "version": "2.7.13"
  }
 },
 "nbformat": 4,
 "nbformat_minor": 0
}

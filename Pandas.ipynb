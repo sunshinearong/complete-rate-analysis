{
 "cells": [
  {
   "cell_type": "markdown",
   "metadata": {
    "deletable": true,
    "editable": true
   },
   "source": [
    "# Instruction for Pandas Beginner\n",
    "\n",
    "-- Math 210 Project 1"
   ]
  },
  {
   "cell_type": "markdown",
   "metadata": {},
   "source": [
    "# Introduction:\n",
    "\n",
    "**Pandas** is a software library written for the Python programming language for data manipulation and analysis. In particular, it offers data structures and operations for manipulating numerical tables and time series. pandas is free software released under the three-clause BSD license. The name is derived from the term \"Panel data\", an econometrics term for multidimensional structured data sets."
   ]
  },
  {
   "cell_type": "markdown",
   "metadata": {
    "collapsed": true,
    "deletable": true,
    "editable": true
   },
   "source": [
    "## What can Pandas Do:\n",
    "\n",
    "\n",
    "* Easy handling of missing data (represented as NaN) in floating point as well as non-floating point data\n",
    "* Size mutability: columns can be inserted and deleted from DataFrame and higher dimensional objects\n",
    "* Automatic and explicit data alignment: objects can be explicitly aligned to a set of labels, or the user can simply ignore the labels and let Series, DataFrame, etc. automatically align the data for you in computations\n",
    "* Powerful, flexible group by functionality to perform split-apply-combine operations on data sets, for both aggregating and transforming data\n",
    "* Make it easy to convert ragged, differently-indexed data in other Python and NumPy data structures into DataFrame objects\n",
    "* Intelligent label-based slicing, fancy indexing, and subsetting of large data sets\n",
    "* Intuitive merging and joining data sets\n",
    "* Flexible reshaping and pivoting of data sets\n",
    "* Hierarchical labeling of axes (possible to have multiple labels per tick)\n",
    "* Time series-specific functionality: date range generation and frequency conversion, moving window statistics, moving window linear regressions, date shifting and lagging, etc.\n",
    "\n"
   ]
  },
  {
   "cell_type": "markdown",
   "metadata": {
    "deletable": true,
    "editable": true
   },
   "source": [
    "## Pandas Data Type\n",
    "\n",
    "**Pandas** is one of the hottest new tools available to data science.Pandas is an open-source library that provides high-performance, easy-to-use data structures and data analysis tools.Pandas, built on top of NumPy, offers data structures and operations for manipulating numerical tables and time series.\n",
    "pandas is well suited for many different kinds of data:\n",
    "\n",
    "* Tabular data with heterogeneously-typed columns, as in an SQL table or Excel spreadsheet\n",
    "* Ordered and unordered (not necessarily fixed-frequency) time series data.\n",
    "* Arbitrary matrix data (homogeneously typed or heterogeneous) with row and column labels\n",
    "* Any other form of observational / statistical data sets. The data actually need not be labeled at all to be placed into a pandas data structure.\n",
    "* The two primary data structures of pandas, Series (1-dimensional) and DataFrame (2-dimensional), handle the vast majority of typical use cases in finance, statistics, social science, and many areas of engineering.\n",
    "\n"
   ]
  },
  {
   "cell_type": "markdown",
   "metadata": {
    "deletable": true,
    "editable": true
   },
   "source": [
    "## Learining outcome\n",
    "\n",
    "For data scientists, working with data is typically divided into multiple stages: munging and cleaning data, analyzing / modeling it, then organizing the results of the analysis into a form suitable for plotting or tabular display. Pandas is the ideal tool for all of these tasks.\n",
    "\n",
    "After learning this instruction, you may install Pandas on your device or know how to use Pandas in Jyputer Notebook,  know how to create and summarize a DataFrame and master basic skill to plot the data of a dataframe.\n",
    "\n",
    "The tutorial will contain below:\n",
    "* 1. Installation and Setup (or import Pandas)\n",
    "* 2. Create, Save and Load DataFrame\n",
    "    * 2.1 Create Simple DaraFrame\n",
    "    * 2.2 Save and Load a DataFrame\n",
    "    * 2.3 Use NumPy to Create DataFrame\n",
    "* 3. DataFrames Statistics and Information\n",
    "    * 3.1 Descriptive statistics\n",
    "    * 3.2 Data Infomation\n",
    "    * 3.3 Name of columns\n",
    "* 4. Graphs Plotting\n",
    "    * 4.1 histogram\n",
    "    * 4.2 Line Graph\n",
    "        * 4.2.2 Plot a subset of DataFrame\n",
    "    * 4.3 Other Graghs and Graph Styling\n",
    "        * 4.3.1 Pie Chart\n",
    "        * 4.3.2 Bar Chart\n",
    "        * 4.3.3 Graph Styling"
   ]
  },
  {
   "cell_type": "markdown",
   "metadata": {
    "deletable": true,
    "editable": true
   },
   "source": [
    "# TUTORIAL"
   ]
  },
  {
   "cell_type": "markdown",
   "metadata": {
    "deletable": true,
    "editable": true
   },
   "source": [
    "## 1. Installation and Setup (or import Pandas)\n",
    "\n",
    "The first step is to install pandas via Anaconda or Minicoda.\n",
    "Here's the [instruction for Setup](http://stackoverflow.com/documentation/pandas/796/getting-started-with-pandas#t=201703210004262451923)"
   ]
  },
  {
   "cell_type": "markdown",
   "metadata": {},
   "source": [
    "We can also import Pandas to our Python3 notebook, say it `pd`."
   ]
  },
  {
   "cell_type": "code",
   "execution_count": null,
   "metadata": {
    "collapsed": true,
    "deletable": true,
    "editable": true
   },
   "outputs": [],
   "source": [
    "import pandas as pd"
   ]
  },
  {
   "cell_type": "markdown",
   "metadata": {},
   "source": [
    "## 2. Create, Save and Load DataFrame\n",
    "\n",
    "### 2.1 Create Simple DaraFrame\n",
    "\n",
    "We can use `pd.DataFrame` to create a sample Datafram containing sevaral column. \n",
    "\n",
    "**following the format:**\n",
    "\n",
    "\n",
    "`*Name of new frame* = \n",
    "pd.DataFrame({\n",
    "   *Name of column1*: [value(as a series of data)], \n",
    "   *Name of column2*: [value(as a series of data)], \n",
    "   *Name of column3*: [value(as a series of data)], \n",
    "      ...}) `\n",
    "              \n",
    "for example:\n",
    "              "
   ]
  },
  {
   "cell_type": "code",
   "execution_count": null,
   "metadata": {
    "collapsed": false
   },
   "outputs": [],
   "source": [
    "dt_frame1= pd.DataFrame({'Student': [1,2,3,4], 'faculty': ['Arts', 'Science', 'Law','Music']})"
   ]
  },
  {
   "cell_type": "code",
   "execution_count": null,
   "metadata": {
    "collapsed": false
   },
   "outputs": [],
   "source": [
    "dt_frame1"
   ]
  },
  {
   "cell_type": "markdown",
   "metadata": {},
   "source": [
    "In Pandas,columns are ordered alphabetically. We can also use the `columns` parameter to specify the order."
   ]
  },
  {
   "cell_type": "code",
   "execution_count": null,
   "metadata": {
    "collapsed": true
   },
   "outputs": [],
   "source": [
    "dt_frame2= pd.DataFrame({'Student': [1,2,3,4], 'faculty': ['Arts', 'Science', 'Law','Music']},columns=['faculty','Student'])"
   ]
  },
  {
   "cell_type": "code",
   "execution_count": null,
   "metadata": {
    "collapsed": false
   },
   "outputs": [],
   "source": [
    "dt_frame2"
   ]
  },
  {
   "cell_type": "markdown",
   "metadata": {},
   "source": [
    "### 2.2 Save and Load a DataFrame\n",
    "\n",
    "we save or load a dataframe in pickle(.plk) format using `to_pickle` and `read_pickle` command\n",
    "\n",
    "**following the format:**\n",
    "\n",
    "` Save dataframe to pickled pandas object:\n",
    "df.to_pickle(file_name) # where to save it usually as a .plk`\n",
    "\n",
    "` Load dataframe from pickled pandas object\n",
    "df= pd.read_pickle(file_name)`"
   ]
  },
  {
   "cell_type": "markdown",
   "metadata": {},
   "source": [
    "### 2.3 Use NumPy to Create DataFrame\n",
    "\n",
    "We can generate random number using numpy. When we create random number DataFrame, we need to set the seed for a reproducible sample.(Usually 0)"
   ]
  },
  {
   "cell_type": "code",
   "execution_count": null,
   "metadata": {
    "collapsed": true
   },
   "outputs": [],
   "source": [
    "import numpy as np"
   ]
  },
  {
   "cell_type": "code",
   "execution_count": null,
   "metadata": {
    "collapsed": false
   },
   "outputs": [],
   "source": [
    "np.random.seed(0)"
   ]
  },
  {
   "cell_type": "code",
   "execution_count": null,
   "metadata": {
    "collapsed": false
   },
   "outputs": [],
   "source": [
    "df1 = pd.DataFrame(np.random.randn(6,4), columns=list('ABCD'))\n",
    "print(df1)"
   ]
  },
  {
   "cell_type": "markdown",
   "metadata": {
    "deletable": true,
    "editable": true
   },
   "source": [
    "OR we can use `np.arrage` to create integer sample, with `reshape` to make row and column\n"
   ]
  },
  {
   "cell_type": "code",
   "execution_count": null,
   "metadata": {
    "collapsed": false
   },
   "outputs": [],
   "source": [
    "df2 = pd.DataFrame(np.arange(18).reshape(3,6),columns=list('ABCDEF'))\n",
    "\n",
    "print(df2)"
   ]
  },
  {
   "cell_type": "markdown",
   "metadata": {
    "deletable": true,
    "editable": true
   },
   "source": [
    "## 3. DataFrames Statistics and Information"
   ]
  },
  {
   "cell_type": "markdown",
   "metadata": {},
   "source": [
    "### 3.1 Descriptive statistics"
   ]
  },
  {
   "cell_type": "markdown",
   "metadata": {},
   "source": [
    "We can easily get a statistical summary (included mean, standard deviation, number of observations, minimum, maximum, and quartiles) of numerical columns by the `.describe()` command.\n",
    "\n",
    "** The summary include:**\n",
    "\n",
    "* min: minimum (smallest observation)\n",
    "* 25%: lower quartile or first quartile \n",
    "* 50%: median (middle value)\n",
    "* 75%: upper quartile or third quartile \n",
    "* max: maximum (largest observation)"
   ]
  },
  {
   "cell_type": "code",
   "execution_count": null,
   "metadata": {
    "collapsed": false
   },
   "outputs": [],
   "source": [
    "df1"
   ]
  },
  {
   "cell_type": "code",
   "execution_count": null,
   "metadata": {
    "collapsed": false
   },
   "outputs": [],
   "source": [
    "df1.describe()"
   ]
  },
  {
   "cell_type": "markdown",
   "metadata": {},
   "source": [
    "If a column is not numerical, the output will not contain the column"
   ]
  },
  {
   "cell_type": "code",
   "execution_count": null,
   "metadata": {
    "collapsed": false
   },
   "outputs": [],
   "source": [
    "dt_frame2"
   ]
  },
  {
   "cell_type": "code",
   "execution_count": null,
   "metadata": {
    "collapsed": false
   },
   "outputs": [],
   "source": [
    "dt_frame2.describe()"
   ]
  },
  {
   "cell_type": "markdown",
   "metadata": {},
   "source": [
    "### 3.2 Data Infomation\n",
    "\n",
    "By using the `.info()` command we can easily get the basic information of a DataFrame of each column and the memory usage"
   ]
  },
  {
   "cell_type": "code",
   "execution_count": null,
   "metadata": {
    "collapsed": false
   },
   "outputs": [],
   "source": [
    "df1"
   ]
  },
  {
   "cell_type": "code",
   "execution_count": null,
   "metadata": {
    "collapsed": false
   },
   "outputs": [],
   "source": [
    "df1.info()"
   ]
  },
  {
   "cell_type": "code",
   "execution_count": null,
   "metadata": {
    "collapsed": false
   },
   "outputs": [],
   "source": [
    "\n",
    "df3 = pd.DataFrame({'integers': [1, 2, 3], \n",
    "                   'floats': [2.4, 3.8, 4.9], \n",
    "                   'text': ['How', 'Are', 'You'], \n",
    "                   'ints with None': [4, None, 9]})\n",
    "print(df3)"
   ]
  },
  {
   "cell_type": "code",
   "execution_count": null,
   "metadata": {
    "collapsed": false
   },
   "outputs": [],
   "source": [
    "df3.info()"
   ]
  },
  {
   "cell_type": "markdown",
   "metadata": {},
   "source": [
    "### 3.3 Name of columns\n",
    "\n",
    "By the using the `list` or `columns` commands we can easily list the name of all columns.\n",
    "\n",
    "`list(Name of DataFrame)`"
   ]
  },
  {
   "cell_type": "code",
   "execution_count": null,
   "metadata": {
    "collapsed": false
   },
   "outputs": [],
   "source": [
    "list(dt_frame1)"
   ]
  },
  {
   "cell_type": "markdown",
   "metadata": {},
   "source": [
    "`df.columns`"
   ]
  },
  {
   "cell_type": "code",
   "execution_count": null,
   "metadata": {
    "collapsed": false
   },
   "outputs": [],
   "source": [
    "dt_frame1.columns"
   ]
  },
  {
   "cell_type": "markdown",
   "metadata": {},
   "source": [
    "## 4. Graphs Plotting\n",
    "\n",
    "In Pandas, we can create dataframe and handle them easily. But Pandas make graphs of the data by using the `matplotlib`.\n"
   ]
  },
  {
   "cell_type": "code",
   "execution_count": null,
   "metadata": {
    "collapsed": true
   },
   "outputs": [],
   "source": [
    "import matplotlib.pyplot as plt"
   ]
  },
  {
   "cell_type": "markdown",
   "metadata": {},
   "source": [
    "*Here Pandas can plot several types of graphs:*\n",
    "\n",
    " * histogram"
   ]
  },
  {
   "cell_type": "markdown",
   "metadata": {},
   "source": [
    "### 4.1 histogram\n",
    "\n",
    "Histogram is used when we have a pandas series (Use `pd.Series`). The x-axis represents the bin of data while the y-axis represents the frequency of each bin.\n",
    "\n",
    "**Using the format:** *series.plot(kind='hist')*"
   ]
  },
  {
   "cell_type": "markdown",
   "metadata": {},
   "source": [
    "Example: Let's generate a radom series by using numpy and plot the histogram of the series"
   ]
  },
  {
   "cell_type": "code",
   "execution_count": null,
   "metadata": {
    "collapsed": false
   },
   "outputs": [],
   "source": [
    "np.random.seed(0)  #specify the seed as zero\n",
    "\n",
    "numbers=np.random.randn(500) #it will generate an array of normal distributed numbers\n",
    "series_1 = pd.Series(numbers) # it will generate a pandas series\n",
    "series_1.plot(kind='hist')\n",
    "plt.show()"
   ]
  },
  {
   "cell_type": "markdown",
   "metadata": {},
   "source": [
    "We can also add a graph title\n"
   ]
  },
  {
   "cell_type": "code",
   "execution_count": null,
   "metadata": {
    "collapsed": false
   },
   "outputs": [],
   "source": [
    "series_1.plot(kind='hist',title='Normal graph')\n",
    "plt.show()"
   ]
  },
  {
   "cell_type": "markdown",
   "metadata": {
    "deletable": true,
    "editable": true
   },
   "source": [
    "### 4.2 Line Graph\n",
    " \n",
    "The graph of dataFrame with only number values can be plotted as line graph using the `.plot()` method"
   ]
  },
  {
   "cell_type": "code",
   "execution_count": null,
   "metadata": {
    "collapsed": false
   },
   "outputs": [],
   "source": [
    "df1"
   ]
  },
  {
   "cell_type": "code",
   "execution_count": null,
   "metadata": {
    "collapsed": false
   },
   "outputs": [],
   "source": [
    "df1.plot()\n",
    "plt.show()"
   ]
  },
  {
   "cell_type": "markdown",
   "metadata": {},
   "source": [
    "### 4.2.2 Plot a subset of DataFrame\n",
    "\n",
    "We can plot a subset (column) of a DataFrame following:\n",
    "\n",
    "`df['column'].plot()`"
   ]
  },
  {
   "cell_type": "code",
   "execution_count": null,
   "metadata": {
    "collapsed": false
   },
   "outputs": [],
   "source": [
    "df1['C'].plot()\n",
    "plt.show()"
   ]
  },
  {
   "cell_type": "markdown",
   "metadata": {},
   "source": [
    "### 4.3 Other Graghs and Graph Styling\n",
    "\n",
    "* Pie Chart\n",
    "* Bar Chart\n",
    "* Graph Styling\n",
    "\n",
    "Create DataFrame 3 as `df3` for example:"
   ]
  },
  {
   "cell_type": "code",
   "execution_count": null,
   "metadata": {
    "collapsed": false
   },
   "outputs": [],
   "source": [
    "df3 = pd.DataFrame({'Group A': [8,5,8,3,5,7,2,5,8,9,3,1,2],'Group B': [4,7,3,4,6,4,2,4,7,2,3,1,7]})"
   ]
  },
  {
   "cell_type": "code",
   "execution_count": null,
   "metadata": {
    "collapsed": false
   },
   "outputs": [],
   "source": [
    "df3"
   ]
  },
  {
   "cell_type": "markdown",
   "metadata": {},
   "source": [
    "### 4.3.1 Pie Chart\n",
    "\n",
    "Pie Chart represents the proportion of each section shares, Following the format:\n",
    "\n",
    "Pie only can be plotted for one sigle subset:\n",
    "\n",
    "`df['column'].plot(kind='pie)`"
   ]
  },
  {
   "cell_type": "code",
   "execution_count": null,
   "metadata": {
    "collapsed": false
   },
   "outputs": [],
   "source": [
    "df3['Group A'].plot(kind='pie')\n",
    "plt.show()"
   ]
  },
  {
   "cell_type": "markdown",
   "metadata": {},
   "source": [
    "Trick: Pie chart is usually ploted as an ellipse, to turn it into a circle, we need `pyplot.axis('equal') ` from pyplot"
   ]
  },
  {
   "cell_type": "code",
   "execution_count": null,
   "metadata": {
    "collapsed": true
   },
   "outputs": [],
   "source": [
    "from matplotlib import pyplot"
   ]
  },
  {
   "cell_type": "code",
   "execution_count": null,
   "metadata": {
    "collapsed": false
   },
   "outputs": [],
   "source": [
    "pyplot.axis('equal')\n",
    "df3['Group A'].plot(kind='pie')\n",
    "plt.show()"
   ]
  },
  {
   "cell_type": "markdown",
   "metadata": {
    "collapsed": true,
    "deletable": true,
    "editable": true
   },
   "source": [
    "### 4.3.2 Bar Chart\n",
    "\n",
    "Bar illustrate the differrece of distribution between two populations(columns). It's simliar to histogram, following:\n",
    "\n",
    "`df.hist()`"
   ]
  },
  {
   "cell_type": "code",
   "execution_count": null,
   "metadata": {
    "collapsed": false
   },
   "outputs": [],
   "source": [
    "df3.hist()\n",
    "plt.show()"
   ]
  },
  {
   "cell_type": "markdown",
   "metadata": {},
   "source": [
    "we can also apply the graph of one column to the other's, which help us too see the difference more clear, following:\n",
    "\n",
    "df['column to apply'].hist()"
   ]
  },
  {
   "cell_type": "code",
   "execution_count": null,
   "metadata": {
    "collapsed": false
   },
   "outputs": [],
   "source": [
    "df3['Group A'].hist()\n",
    "plt.show()"
   ]
  },
  {
   "cell_type": "markdown",
   "metadata": {},
   "source": [
    "### 4.3.3 Graph Styling\n",
    "\n",
    "By using `df.plot()`, we can optimize and upgrade the graph.\n",
    "\n",
    "*Examples are shown below:*"
   ]
  },
  {
   "cell_type": "markdown",
   "metadata": {},
   "source": [
    "* Make the line of Line Plot into single plots"
   ]
  },
  {
   "cell_type": "code",
   "execution_count": null,
   "metadata": {
    "collapsed": false,
    "scrolled": true
   },
   "outputs": [],
   "source": [
    "df1.plot(style='o')\n",
    "plt.show()"
   ]
  },
  {
   "cell_type": "markdown",
   "metadata": {},
   "source": [
    "* Make the line' color of Line Plot be blue"
   ]
  },
  {
   "cell_type": "code",
   "execution_count": null,
   "metadata": {
    "collapsed": false
   },
   "outputs": [],
   "source": [
    "df1.plot(style='b')\n",
    "plt.show()"
   ]
  },
  {
   "cell_type": "markdown",
   "metadata": {},
   "source": [
    "* Make the line' color of Line Plot be red and the lines dashed"
   ]
  },
  {
   "cell_type": "code",
   "execution_count": null,
   "metadata": {
    "collapsed": false
   },
   "outputs": [],
   "source": [
    "df1.plot(style='r--')\n",
    "plt.show()"
   ]
  },
  {
   "cell_type": "markdown",
   "metadata": {
    "deletable": true,
    "editable": true
   },
   "source": [
    "# Examples Source and referrence\n",
    "\n",
    "All example of the tutorial comes from or are motivated by:\n",
    "\n",
    "* websites: \n",
    "https://github.com/vinta/awesome-python\n",
    "\n",
    "http://stackoverflow.com/documentation/pandas/796/getting-started-with-pandas#t=201703210004262451923\n",
    "\n",
    "http://pandas.pydata.org/pandas-docs/stable/\n",
    "\n",
    "* youtube video:\n",
    "https://www.google.co.in/url?sa=t&rct=j&q=&esrc=s&source=web&cd=2&cad=rja&uact=8&ved=0ahUKEwin_eOMl7bSAhUDoZQKHSYYB-QQtwIIHzAB&url=https%3A%2F%2Fwww.youtube.com%2Fwatch%3Fv%3DIqjy9UqKKuo&usg=AFQjCNG9c4RZlXbXCkHjCjZhJOSik6V-RQ&sig2=Ek8uWFA_PajTHBqtVksVwg&bvm=bv.148441817,d.dGo\n",
    "\n",
    "\n",
    "\n",
    "* PDF: http://pandas.pydata.org/pandas-docs/version/0.9.1/pandas.pdf"
   ]
  },
  {
   "cell_type": "code",
   "execution_count": null,
   "metadata": {
    "collapsed": true
   },
   "outputs": [],
   "source": []
  }
 ],
 "metadata": {
  "kernelspec": {
   "display_name": "Python 2",
   "language": "python",
   "name": "python2"
  },
  "language_info": {
   "codemirror_mode": {
    "name": "ipython",
    "version": 2
   },
   "file_extension": ".py",
   "mimetype": "text/x-python",
   "name": "python",
   "nbconvert_exporter": "python",
   "pygments_lexer": "ipython2",
   "version": "2.7.13"
  }
 },
 "nbformat": 4,
 "nbformat_minor": 2
}
